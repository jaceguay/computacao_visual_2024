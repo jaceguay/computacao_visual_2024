{
 "cells": [
  {
   "cell_type": "code",
   "execution_count": 1,
   "metadata": {},
   "outputs": [],
   "source": [
    "from PIL import Image\n",
    "import os\n"
   ]
  },
  {
   "cell_type": "code",
   "execution_count": 2,
   "metadata": {},
   "outputs": [],
   "source": [
    "def transform_to_isometric(input_folder, output_folder, scale_x=0.7, scale_y=1.0, rotation_angle=45):\n",
    "    if not os.path.exists(output_folder):\n",
    "        os.makedirs(output_folder)\n",
    "\n",
    "    for file_name in os.listdir(input_folder):\n",
    "        if file_name.lower().endswith(\".png\"):\n",
    "            input_path = os.path.join(input_folder, file_name)\n",
    "\n",
    "            # Adicionar prefixo ao nome do arquivo de saída\n",
    "            output_file_name = f\"iso_{file_name}\"\n",
    "            output_path = os.path.join(output_folder, output_file_name)\n",
    "\n",
    "            # Abrir imagem com transparência\n",
    "            image = Image.open(input_path).convert(\"RGBA\")\n",
    "\n",
    "            # Redimensionar proporcionalmente\n",
    "            width, height = image.size\n",
    "            new_width = int(width * scale_x)\n",
    "            new_height = int(height * scale_y)\n",
    "            image = image.resize((new_width, new_height), resample=Image.LANCZOS)\n",
    "\n",
    "            # Rotacionar mantendo o fundo transparente\n",
    "            image = image.rotate(rotation_angle, resample=Image.BICUBIC, expand=True)\n",
    "\n",
    "            # Salvar a imagem transformada\n",
    "            image.save(output_path, \"PNG\")\n",
    "            print(f\"Transformada: {output_file_name}\")\n"
   ]
  },
  {
   "cell_type": "code",
   "execution_count": 3,
   "metadata": {},
   "outputs": [
    {
     "name": "stdout",
     "output_type": "stream",
     "text": [
      "Transformada: iso_imgs_3.png\n",
      "Transformada: iso_imgs_2.png\n",
      "Transformada: iso_imgs_6.png\n",
      "Transformada: iso_imgs_7.png\n",
      "Transformada: iso_imgs_5.png\n",
      "Transformada: iso_imgs_4.png\n",
      "Transformada: iso_imgs.png\n",
      "Transformada: iso_imgs_8.png\n"
     ]
    }
   ],
   "source": [
    "# Configuração das pastas de entrada e saída\n",
    "input_folder = \"resultado/imgs_apresentacao/isos\"\n",
    "output_folder = \"resultado/imgs_apresentacao/isos\"\n",
    "\n",
    "# Transformar imagens\n",
    "transform_to_isometric(input_folder, output_folder, scale_x=0.7, scale_y=0.5, rotation_angle=0)"
   ]
  }
 ],
 "metadata": {
  "kernelspec": {
   "display_name": "geo",
   "language": "python",
   "name": "python3"
  },
  "language_info": {
   "codemirror_mode": {
    "name": "ipython",
    "version": 3
   },
   "file_extension": ".py",
   "mimetype": "text/x-python",
   "name": "python",
   "nbconvert_exporter": "python",
   "pygments_lexer": "ipython3",
   "version": "3.13.1"
  }
 },
 "nbformat": 4,
 "nbformat_minor": 2
}
