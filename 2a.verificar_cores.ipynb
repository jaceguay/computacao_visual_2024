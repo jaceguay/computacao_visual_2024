{
 "cells": [
  {
   "cell_type": "code",
   "execution_count": 2,
   "metadata": {},
   "outputs": [],
   "source": [
    "import os\n",
    "import rasterio\n",
    "import numpy as np"
   ]
  },
  {
   "cell_type": "code",
   "execution_count": null,
   "metadata": {},
   "outputs": [
    {
     "name": "stdout",
     "output_type": "stream",
     "text": [
      "Verificando arquivo: tile_248_166.tif\n",
      "Banda 1: Min=76, Max=93\n",
      "Banda 2: Min=87, Max=108\n",
      "Banda 3: Min=92, Max=112\n",
      "Banda 4: Min=255, Max=255\n",
      "Verificando arquivo: tile_248_167.tif\n",
      "Banda 1: Min=84, Max=95\n",
      "Banda 2: Min=95, Max=110\n",
      "Banda 3: Min=99, Max=113\n",
      "Banda 4: Min=255, Max=255\n"
     ]
    }
   ],
   "source": [
    "pasta_geotiffs = r'C:\\temp\\drones\\temp'\n",
    "\n",
    "# Verificar os intervalos de cores\n",
    "def verificar_cores_geotiff(caminho_arquivo):\n",
    "    with rasterio.open(caminho_arquivo) as src:\n",
    "        for i in range(1, src.count + 1):\n",
    "            banda = src.read(i)\n",
    "            valores_min = banda.min()\n",
    "            valores_max = banda.max()\n",
    "            print(f\"Banda {i}: Min={valores_min}, Max={valores_max}\")\n",
    "            if valores_min < 0 or valores_max > 255:\n",
    "                print(f\"Alerta: Valores fora do intervalo na banda {i}\")\n",
    "\n",
    "for arquivo in os.listdir(pasta_geotiffs):\n",
    "    if arquivo.endswith(\".tif\") or arquivo.endswith(\".tiff\"):\n",
    "        print(f\"Verificando arquivo: {arquivo}\")\n",
    "        verificar_cores_geotiff(os.path.join(pasta_geotiffs, arquivo))"
   ]
  }
 ],
 "metadata": {
  "kernelspec": {
   "display_name": "geo",
   "language": "python",
   "name": "python3"
  },
  "language_info": {
   "codemirror_mode": {
    "name": "ipython",
    "version": 3
   },
   "file_extension": ".py",
   "mimetype": "text/x-python",
   "name": "python",
   "nbconvert_exporter": "python",
   "pygments_lexer": "ipython3",
   "version": "3.9.20"
  }
 },
 "nbformat": 4,
 "nbformat_minor": 2
}
