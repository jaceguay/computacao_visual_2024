{
 "cells": [
  {
   "cell_type": "code",
   "execution_count": 2,
   "metadata": {},
   "outputs": [],
   "source": [
    "import os\n",
    "import geopandas as gpd\n",
    "import rasterio\n",
    "from rasterio.features import geometry_mask\n",
    "from shapely.geometry import box\n",
    "from shutil import copy2\n"
   ]
  },
  {
   "cell_type": "code",
   "execution_count": 3,
   "metadata": {},
   "outputs": [],
   "source": [
    "# %% Caminhos\n",
    "base_folder = r'C:\\temp\\drones\\saida'\n",
    "output_classes_folder = r'C:\\temp\\drones\\classes'\n",
    "\n",
    "# Cria a pasta de saída principal para as classes\n",
    "os.makedirs(output_classes_folder, exist_ok=True)"
   ]
  },
  {
   "cell_type": "code",
   "execution_count": null,
   "metadata": {},
   "outputs": [],
   "source": [
    "# %% Processamento\n",
    "# Itera por todas as subpastas no diretório base\n",
    "for folder_name in os.listdir(base_folder):\n",
    "    folder_path = os.path.join(base_folder, folder_name)\n",
    "\n",
    "    # Verifica se é uma subpasta válida\n",
    "    if os.path.isdir(folder_path):\n",
    "        geojson_path = os.path.join(base_folder, f\"{folder_name}.geojson\")\n",
    "\n",
    "        # Verifica se o arquivo GeoJSON correspondente existe\n",
    "        if os.path.exists(geojson_path):\n",
    "            # Lê e reprojeta o GeoJSON para EPSG:32723\n",
    "            gdf = gpd.read_file(geojson_path)\n",
    "            gdf = gdf.to_crs(epsg=32723)\n",
    "\n",
    "            # Identifica os tipos únicos no GeoJSON e cria pastas de saída por classe\n",
    "            types = gdf[\"tipo\"].unique()\n",
    "            for t in types:\n",
    "                os.makedirs(os.path.join(output_classes_folder, t), exist_ok=True)\n",
    "\n",
    "            # Itera pelos arquivos GeoTIFF na subpasta\n",
    "            for image_file in os.listdir(folder_path):\n",
    "                if image_file.endswith(\".tif\"):\n",
    "                    image_path = os.path.join(folder_path, image_file)\n",
    "                    with rasterio.open(image_path) as src:\n",
    "                        # Obtém os limites do GeoTIFF\n",
    "                        image_bounds = box(*src.bounds)\n",
    "\n",
    "                        # Verifica interseção com os polígonos no GeoJSON\n",
    "                        overlaps = gdf[gdf.geometry.intersects(image_bounds)]\n",
    "                        if not overlaps.empty:\n",
    "                            # Determina a classe predominante no corte\n",
    "                            total_pixels = src.height * src.width\n",
    "                            predominant_type = None\n",
    "                            max_coverage = 0\n",
    "                            for _, row in overlaps.iterrows():\n",
    "                                # Gera a máscara para a interseção\n",
    "                                mask = geometry_mask(\n",
    "                                    [row.geometry],\n",
    "                                    transform=src.transform,\n",
    "                                    out_shape=(src.height, src.width),\n",
    "                                    invert=True\n",
    "                                )\n",
    "                                covered_pixels = mask.sum()\n",
    "                                coverage_ratio = covered_pixels / total_pixels\n",
    "                                if coverage_ratio > max_coverage:\n",
    "                                    max_coverage = coverage_ratio\n",
    "                                    predominant_type = row[\"tipo\"]\n",
    "\n",
    "                            # Copia o arquivo para a pasta correspondente à classe\n",
    "                            if predominant_type in [\"areia\", \"restinga\"]:\n",
    "                                destination_folder = os.path.join(output_classes_folder, predominant_type)\n",
    "                                copy2(image_path, os.path.join(destination_folder, image_file))\n"
   ]
  }
 ],
 "metadata": {
  "kernelspec": {
   "display_name": "geo",
   "language": "python",
   "name": "python3"
  },
  "language_info": {
   "codemirror_mode": {
    "name": "ipython",
    "version": 3
   },
   "file_extension": ".py",
   "mimetype": "text/x-python",
   "name": "python",
   "nbconvert_exporter": "python",
   "pygments_lexer": "ipython3",
   "version": "3.9.20"
  }
 },
 "nbformat": 4,
 "nbformat_minor": 2
}
