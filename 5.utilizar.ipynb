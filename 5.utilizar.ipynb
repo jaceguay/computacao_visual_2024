{
 "cells": [
  {
   "cell_type": "code",
   "execution_count": null,
   "metadata": {},
   "outputs": [],
   "source": [
    "import torch\n",
    "from torchvision.models import resnet18\n",
    "from torchvision import transforms\n",
    "from PIL import Image\n",
    "import numpy as np\n",
    "import rasterio\n",
    "from rasterio.windows import Window\n",
    "from rasterio.transform import from_origin\n"
   ]
  },
  {
   "cell_type": "code",
   "execution_count": null,
   "metadata": {},
   "outputs": [],
   "source": [
    "\n",
    "# Definir a arquitetura do modelo\n",
    "model = resnet18(num_classes=2)  # Duas classes: Restinga (0) e Areia (1)\n",
    "# Carregar os pesos do modelo\n",
    "model.load_state_dict(torch.load('resultado/resnet18_modelo_classificado_restinga_areia.pth'))\n",
    "# Colocar o modelo em modo de avaliação\n",
    "model.eval()\n",
    "\n",
    "# Definir as transformações aplicadas durante o treinamento\n",
    "transform = transforms.Compose([\n",
    "    transforms.Resize((256, 256)),\n",
    "    transforms.ToTensor(),\n",
    "    transforms.Normalize(mean=[0.5, 0.5, 0.5], std=[0.5, 0.5, 0.5])\n",
    "])\n"
   ]
  },
  {
   "cell_type": "code",
   "execution_count": null,
   "metadata": {},
   "outputs": [],
   "source": [
    "\n",
    "# Função para prever a classe de uma imagem, com um valor adicional para \"nenhuma classe\"\n",
    "def predict(image, threshold=0.95):  # Aumentado o threshold para maior confiabilidade\n",
    "    image = transform(image).unsqueeze(0)  # Adicionar dimensão do batch\n",
    "    with torch.no_grad():\n",
    "        output = model(image)\n",
    "        probabilities = torch.softmax(output, dim=1)  # Obter probabilidades\n",
    "        max_prob, predicted = torch.max(probabilities, 1)\n",
    "\n",
    "        # Verificar se a probabilidade é menor que o limiar\n",
    "        if max_prob.item() < threshold:\n",
    "            return 2  # Valor para \"nenhuma classe detectada\"\n",
    "        return predicted.item()\n"
   ]
  },
  {
   "cell_type": "code",
   "execution_count": null,
   "metadata": {},
   "outputs": [],
   "source": [
    "# Processar o GeoTIFF\n",
    "with rasterio.open('dados/DJI_0128.tif') as src:\n",
    "    res = src.res[0]  # Resolução espacial (tamanho do pixel em metros)\n",
    "    window_size = int(1 / res)  # Tamanho da janela em pixels para 1x1 metro\n",
    "    width = src.width\n",
    "    height = src.height\n",
    "    mask = np.zeros((height // window_size, width // window_size), dtype=np.uint8)\n",
    "\n",
    "    # Iterar sobre a imagem em passos de 1x1 metro\n",
    "    for i in range(0, height, window_size):\n",
    "        for j in range(0, width, window_size):\n",
    "            if i + window_size > height or j + window_size > width:\n",
    "                continue\n",
    "\n",
    "            # Ler a janela correspondente\n",
    "            window = Window(j, i, window_size, window_size)\n",
    "            segment = src.read(window=window)\n",
    "\n",
    "            # Verificar se há um canal alpha (transparência)\n",
    "            if segment.shape[0] == 4:  # Se houver 4 bandas (R, G, B, A)\n",
    "                alpha_channel = segment[3, :, :]  # Extrair o canal alpha\n",
    "                if np.all(alpha_channel == 0):  # Se for totalmente transparente\n",
    "                    mask[i // window_size, j // window_size] = 2\n",
    "                    continue  # Pular para o próximo pixel\n",
    "\n",
    "            # Garantir que segment tenha apenas 3 bandas (R, G, B)\n",
    "            if segment.shape[0] >= 3:\n",
    "                segment = segment[:3]  # Selecionar as 3 primeiras bandas (R, G, B)\n",
    "            else:\n",
    "                raise ValueError(\"O segmento não possui bandas suficientes para RGB.\")\n",
    "\n",
    "            # Converter para imagem PIL\n",
    "            segment_image = Image.fromarray(np.moveaxis(segment, 0, -1))\n",
    "            # Prever a classe\n",
    "            class_id = predict(segment_image, threshold=0.95)\n",
    "            # Atualizar a máscara\n",
    "            mask[i // window_size, j // window_size] = class_id\n",
    "\n",
    "# Definir a transformação geográfica para a máscara\n",
    "transform = from_origin(src.bounds.left, src.bounds.top, window_size * res, window_size * res)"
   ]
  },
  {
   "cell_type": "code",
   "execution_count": null,
   "metadata": {},
   "outputs": [],
   "source": [
    "# Salvar a máscara como GeoTIFF\n",
    "with rasterio.open(\n",
    "    'resultado/DJI_0128_mascara_restinga_areia.tif',\n",
    "    'w',\n",
    "    driver='GTiff',\n",
    "    height=mask.shape[0],\n",
    "    width=mask.shape[1],\n",
    "    count=1,\n",
    "    dtype=mask.dtype,\n",
    "    crs=src.crs,\n",
    "    transform=transform,\n",
    ") as dst:\n",
    "    dst.write(mask, 1)"
   ]
  }
 ],
 "metadata": {
  "kernelspec": {
   "display_name": "geo",
   "language": "python",
   "name": "python3"
  },
  "language_info": {
   "codemirror_mode": {
    "name": "ipython",
    "version": 3
   },
   "file_extension": ".py",
   "mimetype": "text/x-python",
   "name": "python",
   "nbconvert_exporter": "python",
   "pygments_lexer": "ipython3",
   "version": "3.9.20"
  }
 },
 "nbformat": 4,
 "nbformat_minor": 2
}
